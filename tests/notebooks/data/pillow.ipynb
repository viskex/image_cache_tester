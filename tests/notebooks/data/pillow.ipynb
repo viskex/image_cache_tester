{
 "cells": [
  {
   "cell_type": "code",
   "execution_count": null,
   "id": "e97914da-ed50-4466-91dd-247bb56e4324",
   "metadata": {},
   "outputs": [],
   "source": [
    "import os\n",
    "import tempfile"
   ]
  },
  {
   "cell_type": "code",
   "execution_count": null,
   "id": "07ee276a-a2ae-4afc-8b7b-b05a927567db",
   "metadata": {},
   "outputs": [],
   "source": [
    "import IPython.display\n",
    "import PIL.Image"
   ]
  },
  {
   "cell_type": "code",
   "execution_count": null,
   "id": "617c3e6e-115b-4d92-b288-87aab0b13758",
   "metadata": {},
   "outputs": [],
   "source": [
    "import image_cache_tester.compare_images"
   ]
  },
  {
   "cell_type": "code",
   "execution_count": null,
   "id": "fb52f574-137e-4cfc-a0cd-3d2750500081",
   "metadata": {},
   "outputs": [],
   "source": [
    "expected_image_path = os.path.join(\".image_cache\", \"test_compare_images_single_pixel_failure.png\")\n",
    "assert os.path.exists(expected_image_path)"
   ]
  },
  {
   "cell_type": "code",
   "execution_count": null,
   "id": "9da296c1-7217-4670-8536-50212ecdf0bc",
   "metadata": {},
   "outputs": [],
   "source": [
    "actual_image_file = tempfile.NamedTemporaryFile(suffix=\".png\")\n",
    "actual_image_path = actual_image_file.name"
   ]
  },
  {
   "cell_type": "code",
   "execution_count": null,
   "id": "bd167e5d-4922-4b14-9519-71d185eb7349",
   "metadata": {},
   "outputs": [],
   "source": [
    "actual_image = PIL.Image.new(\"RGB\", (50, 50))\n",
    "actual_image.putpixel((49, 49), (255, 0, 0))\n",
    "actual_image.save(actual_image_path)"
   ]
  },
  {
   "cell_type": "code",
   "execution_count": null,
   "id": "2dd65d2e-3f26-466e-a1fb-530fcf5290a2",
   "metadata": {},
   "outputs": [],
   "source": [
    "_, expected_image, difference_image = image_cache_tester.compare_images._compare_images(\n",
    "    actual_image_path, expected_image_path, False)"
   ]
  },
  {
   "cell_type": "code",
   "execution_count": null,
   "id": "520ae112-8313-491a-a0a5-1372cb486e21",
   "metadata": {},
   "outputs": [],
   "source": [
    "IPython.display.display(expected_image.resize((500, 500)))  # type: ignore[no-untyped-call]"
   ]
  },
  {
   "cell_type": "code",
   "execution_count": null,
   "id": "94c181de-c01d-4b09-afd4-a67aa766ff5d",
   "metadata": {},
   "outputs": [],
   "source": [
    "IPython.display.display(actual_image.resize((500, 500)))  # type: ignore[no-untyped-call]"
   ]
  },
  {
   "cell_type": "code",
   "execution_count": null,
   "id": "7095bcaa-28a6-4446-b6c9-4a68c03f3762",
   "metadata": {},
   "outputs": [],
   "source": [
    "IPython.display.display(difference_image.resize((500, 500)))  # type: ignore[no-untyped-call]"
   ]
  }
 ],
 "metadata": {
  "kernelspec": {
   "display_name": "Python 3 (ipykernel)",
   "language": "python",
   "name": "python3"
  },
  "language_info": {
   "codemirror_mode": {
    "name": "ipython"
   },
   "file_extension": ".py",
   "mimetype": "text/x-python",
   "name": "python",
   "nbconvert_exporter": "python"
  }
 },
 "nbformat": 4,
 "nbformat_minor": 5
}
