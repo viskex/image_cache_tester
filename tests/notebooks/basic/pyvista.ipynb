{
 "cells": [
  {
   "cell_type": "code",
   "execution_count": null,
   "id": "2acbd112-f645-427d-9a7b-7e84a814e72d",
   "metadata": {},
   "outputs": [],
   "source": [
    "import os\n",
    "import tempfile"
   ]
  },
  {
   "cell_type": "code",
   "execution_count": null,
   "id": "a8e82483-cfa4-4fec-a114-594bc5f46b25",
   "metadata": {},
   "outputs": [],
   "source": [
    "import IPython.display\n",
    "import pyvista"
   ]
  },
  {
   "cell_type": "code",
   "execution_count": null,
   "id": "8ade3126-4300-4a67-a79d-68ae1bcd2acd",
   "metadata": {},
   "outputs": [],
   "source": [
    "import image_cache_tester.compare_images"
   ]
  },
  {
   "cell_type": "code",
   "execution_count": null,
   "id": "5381269a-636e-44cb-ab49-95e32e98f579",
   "metadata": {},
   "outputs": [],
   "source": [
    "expected_image_path = os.path.join(\".image_cache\", \"test_compare_images_pyvista_failure.png\")\n",
    "assert os.path.exists(expected_image_path)"
   ]
  },
  {
   "cell_type": "code",
   "execution_count": null,
   "id": "da53d7b0-ca0c-4e6c-a6bb-8edc24653b97",
   "metadata": {},
   "outputs": [],
   "source": [
    "plotter_screenshot_file = tempfile.NamedTemporaryFile(suffix=\".png\")\n",
    "plotter_screenshot_path = plotter_screenshot_file.name"
   ]
  },
  {
   "cell_type": "code",
   "execution_count": null,
   "id": "b40efbc4-181d-498e-89ab-ad65932f1d72",
   "metadata": {},
   "outputs": [],
   "source": [
    "plotter = pyvista.Plotter(notebook=False, off_screen=True)\n",
    "_ = plotter.add_mesh(pyvista.Sphere(start_phi=90, end_phi=180))"
   ]
  },
  {
   "cell_type": "code",
   "execution_count": null,
   "id": "3251f95d-cd93-437c-8bbd-8b268f2f40cc",
   "metadata": {},
   "outputs": [],
   "source": [
    "plotter_screenshot, expected_image, difference_image = image_cache_tester.compare_images.compare_images(\n",
    "    plotter, plotter_screenshot_path, expected_image_path, False)"
   ]
  },
  {
   "cell_type": "code",
   "execution_count": null,
   "id": "a7036c37-1d63-43a4-90e4-985405720896",
   "metadata": {},
   "outputs": [],
   "source": [
    "IPython.display.display(plotter_screenshot)  # type: ignore[no-untyped-call]"
   ]
  },
  {
   "cell_type": "code",
   "execution_count": null,
   "id": "2b721105-61ea-43b3-b8af-0d7a9455b7b6",
   "metadata": {},
   "outputs": [],
   "source": [
    "IPython.display.display(expected_image)  # type: ignore[no-untyped-call]"
   ]
  },
  {
   "cell_type": "code",
   "execution_count": null,
   "id": "d5177750-780c-4019-a4d3-b19e7937527b",
   "metadata": {},
   "outputs": [],
   "source": [
    "IPython.display.display(difference_image)  # type: ignore[no-untyped-call]"
   ]
  }
 ],
 "metadata": {
  "kernelspec": {
   "display_name": "Python 3 (ipykernel)",
   "language": "python",
   "name": "python3"
  },
  "language_info": {
   "codemirror_mode": {
    "name": "ipython"
   },
   "file_extension": ".py",
   "mimetype": "text/x-python",
   "name": "python",
   "nbconvert_exporter": "python"
  }
 },
 "nbformat": 4,
 "nbformat_minor": 5
}
