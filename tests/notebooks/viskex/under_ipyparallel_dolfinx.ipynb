{
 "cells": [
  {
   "cell_type": "code",
   "execution_count": null,
   "id": "28780bc0-5711-451b-9d04-2b8fc21287c8",
   "metadata": {},
   "outputs": [],
   "source": [
    "import ipyparallel as ipp\n",
    "\n",
    "cluster = ipp.Cluster(engines=\"MPI\", profile=\"mpi\", n=2)\n",
    "cluster.start_and_connect_sync()"
   ]
  },
  {
   "cell_type": "code",
   "execution_count": null,
   "id": "775eabcd-7a6c-4725-963b-d0208ae1498e",
   "metadata": {},
   "outputs": [],
   "source": [
    "%%px\n",
    "import dolfinx.mesh  # noqa: E402\n",
    "import mpi4py.MPI  # noqa: E402"
   ]
  },
  {
   "cell_type": "code",
   "execution_count": null,
   "id": "d000a091-97d1-4f3d-8d1d-33729bc5abf3",
   "metadata": {},
   "outputs": [],
   "source": [
    "%%px\n",
    "import viskex  # noqa: E402"
   ]
  },
  {
   "cell_type": "code",
   "execution_count": null,
   "id": "b23ab579-71b1-49f5-b838-ca9e0d2d052a",
   "metadata": {},
   "outputs": [],
   "source": [
    "%%px\n",
    "square_tria = dolfinx.mesh.create_unit_square(mpi4py.MPI.COMM_WORLD, 6, 6, dolfinx.mesh.CellType.triangle)"
   ]
  },
  {
   "cell_type": "code",
   "execution_count": null,
   "id": "c310de4e-8695-4d14-8c14-8d1575dba49e",
   "metadata": {},
   "outputs": [],
   "source": [
    "%%px\n",
    "viskex.dolfinx.plot_mesh(square_tria)"
   ]
  },
  {
   "cell_type": "code",
   "execution_count": null,
   "id": "4d529359-ecd4-41fd-b55f-1e3ffe74ef6f",
   "metadata": {},
   "outputs": [],
   "source": [
    "%%px\n",
    "plotter = viskex.DolfinxPlotter.plot_mesh(square_tria)\n",
    "plotter.show()"
   ]
  },
  {
   "cell_type": "code",
   "execution_count": null,
   "id": "d91716d9-71dc-482c-9d09-f86677e2bebd",
   "metadata": {},
   "outputs": [],
   "source": [
    "%%px\n",
    "if True:\n",
    "    viskex.dolfinx.plot_mesh(square_tria)"
   ]
  },
  {
   "cell_type": "code",
   "execution_count": null,
   "id": "d0852100-a3a9-42c4-b871-20251c8090c2",
   "metadata": {},
   "outputs": [],
   "source": [
    "%%px\n",
    "if True:\n",
    "    plotter = viskex.DolfinxPlotter.plot_mesh(square_tria)\n",
    "    plotter.show()"
   ]
  },
  {
   "cell_type": "code",
   "execution_count": null,
   "id": "693107ea-cea2-4722-a9f4-118251a8414a",
   "metadata": {},
   "outputs": [],
   "source": [
    "cluster.stop_cluster_sync()"
   ]
  }
 ],
 "metadata": {
  "kernelspec": {
   "display_name": "Python 3 (ipykernel)",
   "language": "python",
   "name": "python3"
  },
  "language_info": {
   "codemirror_mode": {
    "name": "ipython"
   },
   "file_extension": ".py",
   "mimetype": "text/x-python",
   "name": "python",
   "nbconvert_exporter": "python"
  }
 },
 "nbformat": 4,
 "nbformat_minor": 5
}
