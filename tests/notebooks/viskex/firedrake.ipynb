{
 "cells": [
  {
   "cell_type": "code",
   "execution_count": null,
   "id": "1918a541-9f09-429e-891e-66547863295c",
   "metadata": {},
   "outputs": [],
   "source": [
    "import firedrake"
   ]
  },
  {
   "cell_type": "code",
   "execution_count": null,
   "id": "ffc8aee3-bf2c-4fd5-99e1-8cd572a10741",
   "metadata": {},
   "outputs": [],
   "source": [
    "import viskex"
   ]
  },
  {
   "cell_type": "code",
   "execution_count": null,
   "id": "a1b6c089-6706-4c33-8b39-bb4c55e6f490",
   "metadata": {},
   "outputs": [],
   "source": [
    "square_tria = firedrake.UnitSquareMesh(6, 6, quadrilateral=False, diagonal=\"right\")"
   ]
  },
  {
   "cell_type": "code",
   "execution_count": null,
   "id": "a6f64491-765c-41cb-87b2-c7038d28d1d9",
   "metadata": {},
   "outputs": [],
   "source": [
    "viskex.firedrake.plot_mesh(square_tria)"
   ]
  },
  {
   "cell_type": "code",
   "execution_count": null,
   "id": "de1b024a-aa8c-4b57-b2e1-7df33cc3aa12",
   "metadata": {},
   "outputs": [],
   "source": [
    "plotter = viskex.FiredrakePlotter.plot_mesh(square_tria)"
   ]
  }
 ],
 "metadata": {
  "kernelspec": {
   "display_name": "Python 3 (ipykernel)",
   "language": "python",
   "name": "python3"
  },
  "language_info": {
   "codemirror_mode": {
    "name": "ipython"
   },
   "file_extension": ".py",
   "mimetype": "text/x-python",
   "name": "python",
   "nbconvert_exporter": "python"
  }
 },
 "nbformat": 4,
 "nbformat_minor": 5
}
