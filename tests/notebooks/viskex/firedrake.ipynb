{
 "cells": [
  {
   "cell_type": "code",
   "execution_count": null,
   "id": "1918a541-9f09-429e-891e-66547863295c",
   "metadata": {},
   "outputs": [],
   "source": [
    "import firedrake"
   ]
  },
  {
   "cell_type": "code",
   "execution_count": null,
   "id": "ffc8aee3-bf2c-4fd5-99e1-8cd572a10741",
   "metadata": {},
   "outputs": [],
   "source": [
    "import viskex"
   ]
  },
  {
   "cell_type": "code",
   "execution_count": null,
   "id": "a1b6c089-6706-4c33-8b39-bb4c55e6f490",
   "metadata": {},
   "outputs": [],
   "source": [
    "square_tria = firedrake.UnitSquareMesh(6, 6, quadrilateral=False, diagonal=\"right\")"
   ]
  },
  {
   "cell_type": "code",
   "execution_count": null,
   "id": "a6f64491-765c-41cb-87b2-c7038d28d1d9",
   "metadata": {},
   "outputs": [],
   "source": [
    "viskex.firedrake.plot_mesh(square_tria)"
   ]
  },
  {
   "cell_type": "code",
   "execution_count": null,
   "id": "de1b024a-aa8c-4b57-b2e1-7df33cc3aa12",
   "metadata": {},
   "outputs": [],
   "source": [
    "plotter_1 = viskex.FiredrakePlotter.plot_mesh(square_tria)\n",
    "plotter_1.show()"
   ]
  },
  {
   "cell_type": "code",
   "execution_count": null,
   "id": "8de8d0c4-cfc8-4fc2-ab47-53c362780205",
   "metadata": {},
   "outputs": [],
   "source": [
    "if True:\n",
    "    viskex.firedrake.plot_mesh(square_tria)"
   ]
  },
  {
   "cell_type": "code",
   "execution_count": null,
   "id": "571de7bf-928f-41f6-beac-6c32d2397daa",
   "metadata": {},
   "outputs": [],
   "source": [
    "if True:\n",
    "    plotter_2 = viskex.FiredrakePlotter.plot_mesh(square_tria)\n",
    "    plotter_2.show()"
   ]
  },
  {
   "cell_type": "code",
   "execution_count": null,
   "id": "f9315945-4e26-41aa-8777-9b5791d61491",
   "metadata": {},
   "outputs": [],
   "source": [
    "plotter_3 = viskex.FiredrakePlotter.plot_mesh(square_tria)"
   ]
  },
  {
   "cell_type": "code",
   "execution_count": null,
   "id": "a80829f9-7f18-4cc3-8b26-7581a52e70ed",
   "metadata": {},
   "outputs": [],
   "source": [
    "plotter_3.show()"
   ]
  }
 ],
 "metadata": {
  "kernelspec": {
   "display_name": "Python 3 (ipykernel)",
   "language": "python",
   "name": "python3"
  },
  "language_info": {
   "codemirror_mode": {
    "name": "ipython"
   },
   "file_extension": ".py",
   "mimetype": "text/x-python",
   "name": "python",
   "nbconvert_exporter": "python"
  }
 },
 "nbformat": 4,
 "nbformat_minor": 5
}
