{
 "cells": [
  {
   "cell_type": "code",
   "execution_count": null,
   "id": "dc22b0f3-c9c7-419c-a301-163e8c17881b",
   "metadata": {},
   "outputs": [],
   "source": [
    "import ipyparallel as ipp\n",
    "\n",
    "cluster = ipp.Cluster(engines=\"MPI\", profile=\"mpi\", n=2)\n",
    "cluster.start_and_connect_sync()"
   ]
  },
  {
   "cell_type": "code",
   "execution_count": null,
   "id": "1918a541-9f09-429e-891e-66547863295c",
   "metadata": {},
   "outputs": [],
   "source": [
    "%%px\n",
    "import firedrake  # noqa: E402"
   ]
  },
  {
   "cell_type": "code",
   "execution_count": null,
   "id": "ffc8aee3-bf2c-4fd5-99e1-8cd572a10741",
   "metadata": {},
   "outputs": [],
   "source": [
    "%%px\n",
    "import viskex  # noqa: E402"
   ]
  },
  {
   "cell_type": "code",
   "execution_count": null,
   "id": "a1b6c089-6706-4c33-8b39-bb4c55e6f490",
   "metadata": {},
   "outputs": [],
   "source": [
    "%%px\n",
    "square_tria = firedrake.UnitSquareMesh(6, 6, quadrilateral=False, diagonal=\"right\")"
   ]
  },
  {
   "cell_type": "code",
   "execution_count": null,
   "id": "a6f64491-765c-41cb-87b2-c7038d28d1d9",
   "metadata": {},
   "outputs": [],
   "source": [
    "%%px\n",
    "viskex.firedrake.plot_mesh(square_tria)"
   ]
  },
  {
   "cell_type": "code",
   "execution_count": null,
   "id": "de1b024a-aa8c-4b57-b2e1-7df33cc3aa12",
   "metadata": {},
   "outputs": [],
   "source": [
    "%%px\n",
    "plotter = viskex.FiredrakePlotter.plot_mesh(square_tria)"
   ]
  },
  {
   "cell_type": "code",
   "execution_count": null,
   "id": "8de8d0c4-cfc8-4fc2-ab47-53c362780205",
   "metadata": {},
   "outputs": [],
   "source": [
    "%%px\n",
    "if True:\n",
    "    viskex.firedrake.plot_mesh(square_tria)"
   ]
  },
  {
   "cell_type": "code",
   "execution_count": null,
   "id": "571de7bf-928f-41f6-beac-6c32d2397daa",
   "metadata": {},
   "outputs": [],
   "source": [
    "%%px\n",
    "if True:\n",
    "    plotter = viskex.FiredrakePlotter.plot_mesh(square_tria)"
   ]
  },
  {
   "cell_type": "code",
   "execution_count": null,
   "id": "f325f91d-c664-499f-9087-d67f00ab6c45",
   "metadata": {},
   "outputs": [],
   "source": [
    "cluster.stop_cluster_sync()"
   ]
  }
 ],
 "metadata": {
  "kernelspec": {
   "display_name": "Python 3 (ipykernel)",
   "language": "python",
   "name": "python3"
  },
  "language_info": {
   "codemirror_mode": {
    "name": "ipython"
   },
   "file_extension": ".py",
   "mimetype": "text/x-python",
   "name": "python",
   "nbconvert_exporter": "python"
  }
 },
 "nbformat": 4,
 "nbformat_minor": 5
}
